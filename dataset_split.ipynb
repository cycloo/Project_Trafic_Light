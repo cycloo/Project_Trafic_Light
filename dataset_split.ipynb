{
 "cells": [
  {
   "cell_type": "code",
   "execution_count": null,
   "metadata": {},
   "outputs": [],
   "source": [
    "import os\n",
    "import random\n",
    "import shutil\n",
    "\n",
    "def split_dataset(source_dir, dest_dir, train_ratio=0.8, val_ratio=0.10, test_ratio=0.10):\n",
    "    # Make sure the ratios sum to 1\n",
    "    assert train_ratio + val_ratio + test_ratio == 1.0\n",
    "\n",
    "    # Create destination directories\n",
    "    for split in ['train', 'val', 'test']:\n",
    "        os.makedirs(os.path.join(dest_dir, split, 'images'), exist_ok=True)\n",
    "        os.makedirs(os.path.join(dest_dir, split, 'labels'), exist_ok=True)\n",
    "\n",
    "    # List all images and labels\n",
    "    images = [f for f in os.listdir(os.path.join(source_dir, 'images')) if f.endswith(('.jpg', '.jpeg', '.png'))]\n",
    "    labels = [f for f in os.listdir(os.path.join(source_dir, 'labels')) if f.endswith('.txt')]\n",
    "\n",
    "    # Shuffle the data\n",
    "    combined = list(zip(images, labels))\n",
    "    random.shuffle(combined)\n",
    "    images[:], labels[:] = zip(*combined)\n",
    "\n",
    "    # Split the data\n",
    "    train_end = int(train_ratio * len(images))\n",
    "    val_end = train_end + int(val_ratio * len(images))\n",
    "\n",
    "    splits = {\n",
    "        'train': (images[:train_end], labels[:train_end]),\n",
    "        'val': (images[train_end:val_end], labels[train_end:val_end]),\n",
    "        'test': (images[val_end:], labels[val_end:])\n",
    "    }\n",
    "\n",
    "    # Move files to corresponding directories\n",
    "    for split, (split_images, split_labels) in splits.items():\n",
    "        for img, lbl in zip(split_images, split_labels):\n",
    "            shutil.copy(os.path.join(source_dir, 'images', img), os.path.join(dest_dir, split, 'images', img))\n",
    "            shutil.copy(os.path.join(source_dir, 'labels', lbl), os.path.join(dest_dir, split, 'labels', lbl))\n",
    "\n",
    "# Example usage\n",
    "source_directory = 'DATASET_ORIGINAL'  # Ganti dengan path direktori dataset Anda\n",
    "destination_directory = 'DATASET_80_10_10'  # Direktori tujuan setelah split\n",
    "split_dataset(source_directory, destination_directory)\n"
   ]
  }
 ],
 "metadata": {
  "kernelspec": {
   "display_name": "Python 3",
   "language": "python",
   "name": "python3"
  },
  "language_info": {
   "codemirror_mode": {
    "name": "ipython",
    "version": 3
   },
   "file_extension": ".py",
   "mimetype": "text/x-python",
   "name": "python",
   "nbconvert_exporter": "python",
   "pygments_lexer": "ipython3",
   "version": "3.11.5"
  }
 },
 "nbformat": 4,
 "nbformat_minor": 2
}
