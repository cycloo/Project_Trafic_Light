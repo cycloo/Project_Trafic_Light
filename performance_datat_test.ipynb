{
 "cells": [
  {
   "cell_type": "code",
   "execution_count": null,
   "metadata": {},
   "outputs": [
    {
     "name": "stdout",
     "output_type": "stream",
     "text": [
      "Ultralytics YOLOv8.2.48  Python-3.11.5 torch-2.2.1+cu118 CUDA:0 (NVIDIA GeForce RTX 3050 Laptop GPU, 4096MiB)\n",
      "Model summary (fused): 268 layers, 68127420 parameters, 0 gradients, 257.4 GFLOPs\n"
     ]
    },
    {
     "name": "stderr",
     "output_type": "stream",
     "text": [
      "\u001b[34m\u001b[1mval: \u001b[0mScanning C:\\Users\\rezad\\Desktop\\DATASET\\DATASET_80_10_10\\labels\\test... 1066 images, 0 backgrounds, 0 corrupt: 100%|██████████| 1066/1066 [00:01<00:00, 624.93it/s]\n"
     ]
    },
    {
     "name": "stdout",
     "output_type": "stream",
     "text": [
      "\u001b[34m\u001b[1mval: \u001b[0mNew cache created: C:\\Users\\rezad\\Desktop\\DATASET\\DATASET_80_10_10\\labels\\test.cache\n"
     ]
    },
    {
     "name": "stderr",
     "output_type": "stream",
     "text": [
      "                 Class     Images  Instances      Box(P          R      mAP50  mAP50-95): 100%|██████████| 67/67 [01:39<00:00,  1.48s/it]\n"
     ]
    },
    {
     "name": "stdout",
     "output_type": "stream",
     "text": [
      "                   all       1066       7154      0.937      0.935      0.968      0.825\n",
      "                   bus        173        218      0.914       0.95      0.963       0.88\n",
      "                   car        751       2281      0.955      0.933      0.976      0.831\n",
      "                 motor        794       4019      0.929      0.917      0.958      0.741\n",
      "                 truck        444        636      0.949       0.94      0.973      0.845\n",
      "Speed: 0.3ms preprocess, 88.6ms inference, 0.0ms loss, 0.8ms postprocess per image\n",
      "Results saved to \u001b[1mC:\\Users\\rezad\\runs\\detect\\val28\u001b[0m\n",
      "mAP50-95: 0.8245133865883595\n",
      "mAP50: 0.9677140665371735\n",
      "mAP75: 0.8976628463962528\n",
      "mAP per category: [    0.88005     0.83147     0.74136     0.84517]\n"
     ]
    }
   ],
   "source": [
    "from ultralytics import YOLO\n",
    "\n",
    "# Load a custom model\n",
    "model = YOLO(\"best_yogya_8x_80_10_10.pt\")  # Ganti dengan path ke model Anda\n",
    "metrics = model.val(data=\"data.yaml\", split=\"test\", plots=True)\n",
    "\n",
    "print(f\"mAP50-95: {metrics.box.map}\")\n",
    "print(f\"mAP50: {metrics.box.map50}\")\n",
    "print(f\"mAP75: {metrics.box.map75}\")\n",
    "print(f\"mAP per category: {metrics.box.maps}\")\n"
   ]
  }
 ],
 "metadata": {
  "language_info": {
   "name": "python"
  }
 },
 "nbformat": 4,
 "nbformat_minor": 2
}
